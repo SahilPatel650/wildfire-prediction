{
 "cells": [
  {
   "cell_type": "markdown",
   "metadata": {
    "id": "uPojRlNQPJub"
   },
   "source": [
    "# Imports"
   ]
  },
  {
   "cell_type": "markdown",
   "metadata": {
    "id": "oOtnY2y8Om-1"
   },
   "source": [
    "Import the required libraries."
   ]
  },
  {
   "cell_type": "code",
   "execution_count": null,
   "metadata": {
    "id": "1Mf4kbp8yOxd"
   },
   "outputs": [],
   "source": [
    "import tensorflow as tf\n",
    "\n",
    "import get_data\n",
    "import get_model"
   ]
  },
  {
   "cell_type": "code",
   "execution_count": null,
   "metadata": {
    "id": "X1jBBEinQbM0"
   },
   "outputs": [],
   "source": [
    "train_dataset = get_data.get_dataset(\n",
    "    \"./data/next_day_wildfire_spread_train*\",\n",
    "    data_size=64,\n",
    "    sample_size=64,\n",
    "    batch_size=100,\n",
    "    num_in_channels=2,\n",
    "    compression_type=None,\n",
    "    include_frp=True\n",
    ")\n",
    "\n",
    "val_dataset = get_data.get_dataset(\n",
    "    \"./data/next_day_wildfire_spread_eval*\",\n",
    "    data_size=64,\n",
    "    sample_size=64,\n",
    "    batch_size=100,\n",
    "    num_in_channels=2,\n",
    "    compression_type=None,\n",
    "    include_frp=True\n",
    ")"
   ]
  },
  {
   "cell_type": "code",
   "execution_count": null,
   "metadata": {},
   "outputs": [],
   "source": [
    "smooth = 1.\n",
    "def dice_coef(y_true, y_pred):\n",
    "    y_true_f = tf.keras.backend.flatten(y_true)\n",
    "    y_pred_f = tf.keras.backend.flatten(y_pred)\n",
    "    intersection = tf.keras.backend.sum(y_true_f * y_pred_f)\n",
    "    return (2. * intersection + smooth) / (tf.keras.backend.sum(y_true_f) + tf.keras.backend.sum(y_pred_f) + smooth)\n",
    "\n",
    "def dice_coef_loss(y_true, y_pred):\n",
    "    return 1-dice_coef(y_true, y_pred)"
   ]
  },
  {
   "cell_type": "code",
   "execution_count": null,
   "metadata": {},
   "outputs": [],
   "source": [
    "model = get_model.get_model((64, 64, 3))\n",
    "\n",
    "lr_schedule = tf.keras.optimizers.schedules.ExponentialDecay(\n",
    "    0.0001, decay_steps=15, decay_rate=0.96, staircase=True\n",
    ")\n",
    "\n",
    "model.compile(\n",
    "    optimizer=tf.keras.optimizers.Adam(learning_rate=lr_schedule),\n",
    "    loss=dice_coef_loss,\n",
    "    metrics=[\n",
    "        dice_coef,\n",
    "        tf.keras.metrics.AUC(curve=\"PR\"),\n",
    "        tf.keras.metrics.Precision(),\n",
    "        tf.keras.metrics.Recall()\n",
    "    ]\n",
    ")"
   ]
  },
  {
   "cell_type": "code",
   "execution_count": null,
   "metadata": {
    "scrolled": true
   },
   "outputs": [],
   "source": [
    "model.fit(\n",
    "    train_dataset, validation_data=val_dataset, epochs=10,\n",
    "    callbacks=[tf.keras.callbacks.ModelCheckpoint(\n",
    "        \"./model_best.h5\",\n",
    "        save_weights_only=True,\n",
    "        save_best_only=True\n",
    "    )]\n",
    ")"
   ]
  },
  {
   "cell_type": "code",
   "execution_count": null,
   "metadata": {},
   "outputs": [],
   "source": []
  }
 ],
 "metadata": {
  "kaggle": {
   "accelerator": "none",
   "dataSources": [
    {
     "datasetId": 1726926,
     "sourceId": 2824184,
     "sourceType": "datasetVersion"
    }
   ],
   "dockerImageVersionId": 30145,
   "isGpuEnabled": false,
   "isInternetEnabled": false,
   "language": "python",
   "sourceType": "notebook"
  },
  "kernelspec": {
   "display_name": "Python 3 (ipykernel)",
   "language": "python",
   "name": "python3"
  },
  "language_info": {
   "codemirror_mode": {
    "name": "ipython",
    "version": 3
   },
   "file_extension": ".py",
   "mimetype": "text/x-python",
   "name": "python",
   "nbconvert_exporter": "python",
   "pygments_lexer": "ipython3",
   "version": "3.11.5"
  }
 },
 "nbformat": 4,
 "nbformat_minor": 4
}
