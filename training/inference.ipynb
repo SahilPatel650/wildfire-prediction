{
 "cells": [
  {
   "cell_type": "code",
   "execution_count": null,
   "id": "1fabe4fc-f7a3-46b3-9e6a-c4f96caa8f37",
   "metadata": {},
   "outputs": [],
   "source": [
    "import tensorflow as tf\n",
    "import numpy as np\n",
    "import matplotlib.pyplot as plt"
   ]
  },
  {
   "cell_type": "code",
   "execution_count": null,
   "id": "771b7149-d707-497a-abcb-a0561f974f84",
   "metadata": {},
   "outputs": [],
   "source": [
    "import get_data\n",
    "import get_model"
   ]
  },
  {
   "cell_type": "code",
   "execution_count": null,
   "id": "7763526d-12e7-45c7-a075-580bcf371dec",
   "metadata": {},
   "outputs": [],
   "source": [
    "dataset = get_data.get_dataset(\n",
    "    \"./data/next_day_wildfire_spread_eval*\",\n",
    "    data_size=64,\n",
    "    sample_size=64,\n",
    "    batch_size=100,\n",
    "    num_in_channels=2,\n",
    "    compression_type=None,\n",
    "    include_frp=False\n",
    ")"
   ]
  },
  {
   "cell_type": "code",
   "execution_count": null,
   "id": "5c426e7c-27fb-49b1-8442-2c8ca4ae46bd",
   "metadata": {},
   "outputs": [],
   "source": [
    "inputs, labels = next(iter(dataset))\n",
    "print(inputs.shape)\n",
    "print(labels.shape)"
   ]
  },
  {
   "cell_type": "code",
   "execution_count": null,
   "id": "36e21196-2731-4701-849f-20e707218c4d",
   "metadata": {},
   "outputs": [],
   "source": [
    "model = get_model.get_model((64, 64, 3))\n",
    "model.load_weights(\"./models/final_model.h5\")"
   ]
  },
  {
   "cell_type": "code",
   "execution_count": null,
   "id": "c4c7944e-2df5-43b9-82de-fe68a08a3248",
   "metadata": {},
   "outputs": [],
   "source": [
    "def get_preds(idx):\n",
    "    preds = model.predict(inputs[idx:idx+1])[0]\n",
    "    return inputs[idx, :, :, -1:], labels[idx], preds"
   ]
  },
  {
   "cell_type": "code",
   "execution_count": null,
   "id": "d5421db4-7bbf-41ac-9e38-1c0300bc43e4",
   "metadata": {},
   "outputs": [],
   "source": [
    "inp, truth, pred = get_preds(64)"
   ]
  },
  {
   "cell_type": "code",
   "execution_count": null,
   "id": "a043d2c4-7b1e-442f-a448-fa19ad17fe35",
   "metadata": {},
   "outputs": [],
   "source": [
    "plt.imshow(inp)"
   ]
  },
  {
   "cell_type": "code",
   "execution_count": null,
   "id": "bea99913-1da9-4c98-876b-23a1b1f84c86",
   "metadata": {},
   "outputs": [],
   "source": [
    "plt.imshow(truth)"
   ]
  },
  {
   "cell_type": "code",
   "execution_count": null,
   "id": "998ae221-6838-4232-b580-5d765c0e66f7",
   "metadata": {},
   "outputs": [],
   "source": [
    "plt.imshow(pred)"
   ]
  },
  {
   "cell_type": "code",
   "execution_count": null,
   "id": "345a3707-d86d-448f-95f5-373723f8b77b",
   "metadata": {},
   "outputs": [],
   "source": [
    "print(model.predict(np.zeros((1, 64, 64, 3))))"
   ]
  },
  {
   "cell_type": "code",
   "execution_count": null,
   "id": "c6371840-1038-4893-b10e-00c5411f3820",
   "metadata": {},
   "outputs": [],
   "source": []
  }
 ],
 "metadata": {
  "kernelspec": {
   "display_name": "Python 3 (ipykernel)",
   "language": "python",
   "name": "python3"
  },
  "language_info": {
   "codemirror_mode": {
    "name": "ipython",
    "version": 3
   },
   "file_extension": ".py",
   "mimetype": "text/x-python",
   "name": "python",
   "nbconvert_exporter": "python",
   "pygments_lexer": "ipython3",
   "version": "3.11.5"
  }
 },
 "nbformat": 4,
 "nbformat_minor": 5
}
