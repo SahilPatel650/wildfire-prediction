import tensorflow as tf
import numpy as np
import matplotlib.pyplot as plt
import get_data
import get_model


dataset = get_data.get_dataset(
    "./data/next_day_wildfire_spread_eval*",
    data_size=64,
    sample_size=64,
    batch_size=100,
    num_in_channels=2,
    compression_type=None,
    clip_and_normalize=False,
    clip_and_rescale=False,
    random_crop=False,
    center_crop=False
)


inputs, labels = next(iter(dataset))
inputs = inputs.numpy()
labels = labels.numpy()

elev_data = inputs[:, :, :, :1]
fire_data = inputs[:, :, :, 1:2]
frp_data = np.ones((100, 64, 64, 1)) * 0.6
inputs = np.concatenate([elev_data, frp_data, fire_data], axis=-1)


model = get_model.get_model((64, 64, 3))
model.load_weights("models/final_model.h5")



