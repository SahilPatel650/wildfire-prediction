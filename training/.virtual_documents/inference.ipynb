import tensorflow as tf
import numpy as np
import matplotlib.pyplot as plt


import get_data
import get_model


dataset = get_data.get_dataset(
    "./data/next_day_wildfire_spread_eval*",
    data_size=64,
    sample_size=64,
    batch_size=100,
    num_in_channels=2,
    compression_type=None,
    include_frp=True
)


inputs, labels = next(iter(dataset))
print(inputs.shape)
print(labels.shape)


model = get_model.get_model((64, 64, 3))
model.load_weights("models/final_model.h5")


def get_preds(idx):
    preds = model.predict(inputs[idx:idx+1])[0]
    return inputs[idx, :, :, -1:], labels[idx], preds


inp, truth, pred = get_preds(65)


plt.imshow(inp)


plt.imshow(truth)


plt.imshow(pred)



