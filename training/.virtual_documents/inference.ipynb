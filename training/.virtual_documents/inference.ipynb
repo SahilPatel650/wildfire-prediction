import tensorflow as tf
import numpy as np
import matplotlib.pyplot as plt
import get_data
import get_model


dataset = get_data.get_dataset(
    "./data/next_day_wildfire_spread_eval*",
    data_size=64,
    sample_size=64,
    batch_size=100,
    num_in_channels=2,
    compression_type=None,
    clip_and_normalize=False,
    clip_and_rescale=False,
    random_crop=False,
    center_crop=False
)


stats = {
    "elev": [563.0764, 1328.4357, 880.3060, 165.8472],
    "frp": [0.0, 83.63587189, 0.606276508, 5.740427949]
}


def get_frp_data(fire_data):
    frp_data = np.zeros_like(fire_data)
    frp_data += fire_data
    for i in range(len(fire_data)):
        frp_data[i] = (frp_data[i] + np.roll(fire_data[i], 1, axis=0) + np.roll(fire_data[i], -1, axis=0) + np.roll(fire_data[i], 1, axis=1) + np.roll(fire_data[i], -1, axis=1)) / 50
    frp_data = frp_data
    return frp_data


inputs, labels = next(iter(dataset))
inputs = inputs.numpy()
labels = labels.numpy()

elev_data = inputs[:, :, :, :1]
fire_data = inputs[:, :, :, 1:2]
fire_data = np.maximum(fire_data, np.zeros((100, 64, 64, 1)))
frp_data = get_frp_data(fire_data)

elev_data = np.clip(elev_data, stats["elev"][0], stats["elev"][1]) - stats["elev"][0]
div_val = stats["elev"][1] - stats["elev"][0]
elev_data = np.divide(elev_data, div_val, out=np.zeros_like(elev_data), where=div_val!=0)

frp_data = np.clip(frp_data, stats["frp"][0], stats["frp"][1]) - stats["frp"][0]
div_val = stats["frp"][1] - stats["frp"][0]
frp_data = np.divide(frp_data, div_val, out=np.zeros_like(elev_data), where=div_val!=0)

inputs = np.concatenate([elev_data, frp_data, fire_data], axis=-1)


model = get_model.get_model((64, 64, 3))
model.load_weights("models/final_model.h5")


def get_preds(idx):
    preds = model.predict(inputs[idx:idx+1])[0]
    return inputs[idx, :, :, -1:], labels[idx], preds


inp, truth, pred = get_preds(65)


plt.imshow(inp)


plt.imshow(truth)


plt.imshow(pred)



