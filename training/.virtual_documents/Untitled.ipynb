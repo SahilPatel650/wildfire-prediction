import get_data


dataset = get_data.get_dataset(
    "./data/next_day_wildfire_spread_eval*",
    data_size=64,
    sample_size=64,
    batch_size=100,
    num_in_channels=2,
    compression_type=None,
    clip_and_normalize=False,
    clip_and_rescale=False,
    random_crop=False,
    center_crop=False
)



