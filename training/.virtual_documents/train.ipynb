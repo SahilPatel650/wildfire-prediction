





import re
from typing import Dict, List, Optional, Text, Tuple
import matplotlib.pyplot as plt
from matplotlib import colors

import tensorflow as tf
import tensorflow_datasets as tfds

import get_data
import get_model


train_dataset = get_dataset(
    "./data/next_day_wildfire_spread_train*",
    data_size=64,
    sample_size=64,
    batch_size=100,
    num_in_channels=2,
    compression_type=None,
    clip_and_normalize=False,
    clip_and_rescale=False,
)


val_dataset = get_dataset(
    "./data/next_day_wildfire_spread_eval*",
    data_size=64,
    sample_size=64,
    batch_size=100,
    num_in_channels=2,
    compression_type=None,
    clip_and_normalize=False,
    clip_and_rescale=False,
)


model = get_model.get_model((64, 64, 3))

lr_schedule = tf.keras.optimizers.schedules.ExponentialDecay(
    0.0001, decay_steps=15, decay_rate=0.96, staircase=True
)

model.compile(
    optimizer=tf.keras.optimizers.Adam(learning_rate=lr_schedule),
    loss=dice_coef_loss,
    metrics=[
        dice_coef,
        tf.keras.metrics.AUC(curve="PR"),
        tf.keras.metrics.Precision(),
        tf.keras.metrics.Recall()
    ]
)


model.fit(
    train_dataset, validation_data=val_dataset, epochs=1,
    callbacks=[tf.keras.callbacks.ModelCheckpoint(
        "./ckpt/model.h5",
        save_weights_only=True,
        save_best_only=True
    )]
)



