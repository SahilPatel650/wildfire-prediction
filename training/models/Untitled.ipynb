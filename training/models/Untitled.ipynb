{
 "cells": [
  {
   "cell_type": "code",
   "execution_count": null,
   "id": "b2781ef4-696e-4c85-8db1-7ec2db9ca0d9",
   "metadata": {},
   "outputs": [],
   "source": []
  },
  {
   "cell_type": "code",
   "execution_count": null,
   "id": "7488a816-d5f2-437c-ba03-c42287a1b053",
   "metadata": {},
   "outputs": [],
   "source": [
    "CACHE_DIR = \"./elevations\"\n",
    "\n",
    "def get_hgt_name(lat, lon, hgt_dot=True):\n",
    "    retval = ''\n",
    "\n",
    "    retval += 'N{:02d}'.format(+int(floor(lat)))\n",
    "    retval += 'W{:03d}'.format(-int(floor(lon)))\n",
    "    if hgt_dot:\n",
    "        retval += '.'\n",
    "    retval += 'hgt'\n",
    "\n",
    "    return retval\n",
    "\n",
    "def get_elevation_batch(lat_lon_list):\n",
    "    # organize requests by filename\n",
    "    req_dict = {}\n",
    "    for k, (lat, lon) in enumerate(lat_lon_list):\n",
    "        key = int(floor(lat)), int(floor(lon))\n",
    "        if key not in req_dict:\n",
    "            req_dict[key] = ([], [], [])\n",
    "        req_dict[key][0].append(k)\n",
    "        req_dict[key][1].append(lat)\n",
    "        req_dict[key][2].append(lon)\n",
    "\n",
    "    # process the files one-by-one\n",
    "    retval = np.zeros(len(lat_lon_list))\n",
    "    for (lat_int, lon_int), (indices, lats, lons) in req_dict.items():\n",
    "        # find the location of the file\n",
    "        filename = get_hgt_name(lat_int, lon_int)\n",
    "        fullfile = CACHE_DIR / filename\n",
    "        # download the file if needed\n",
    "        if not fullfile.is_file():\n",
    "            # if not determine the URL where it is located\n",
    "            zip_name = get_zip_name(lat_int, lon_int)\n",
    "            url = get_url_for_zip(zip_name)\n",
    "            # then download the file\n",
    "            print(f'Downloading {zip_name}')\n",
    "            CACHE_DIR.mkdir(exist_ok=True, parents=True)\n",
    "            download(url, CACHE_DIR / zip_name)\n",
    "            # finally unzip and remove the file\n",
    "            unzip(CACHE_DIR / zip_name)\n",
    "        # process the file\n",
    "        data = read_elevation_from_file(fullfile, np.array(lats), np.array(lons))\n",
    "        # write data back into the return value at the appropriate indices\n",
    "        retval[indices] = data\n",
    "\n",
    "    # return the elevation data\n",
    "    return retval"
   ]
  }
 ],
 "metadata": {
  "kernelspec": {
   "display_name": "Python 3 (ipykernel)",
   "language": "python",
   "name": "python3"
  },
  "language_info": {
   "codemirror_mode": {
    "name": "ipython",
    "version": 3
   },
   "file_extension": ".py",
   "mimetype": "text/x-python",
   "name": "python",
   "nbconvert_exporter": "python",
   "pygments_lexer": "ipython3",
   "version": "3.11.5"
  }
 },
 "nbformat": 4,
 "nbformat_minor": 5
}
